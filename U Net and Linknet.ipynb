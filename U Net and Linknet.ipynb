{
 "cells": [
  {
   "cell_type": "code",
   "execution_count": 1,
   "metadata": {},
   "outputs": [],
   "source": [
    "import os\n",
    "os.environ[\"CUDA_DEVICE_ORDER\"]=\"PCI_BUS_ID\"\n",
    "os.environ[\"CUDA_VISIBLE_DEVICES\"]=\"0\""
   ]
  },
  {
   "cell_type": "code",
   "execution_count": 2,
   "metadata": {},
   "outputs": [
    {
     "name": "stderr",
     "output_type": "stream",
     "text": [
      "/N/u/gautham4/.local/lib/python3.6/site-packages/h5py/__init__.py:36: FutureWarning: Conversion of the second argument of issubdtype from `float` to `np.floating` is deprecated. In future, it will be treated as `np.float64 == np.dtype(float).type`.\n",
      "  from ._conv import register_converters as _register_converters\n",
      "Using TensorFlow backend.\n"
     ]
    }
   ],
   "source": [
    "#import statements\n",
    "import sys\n",
    "import random\n",
    "import warnings\n",
    "import numpy as np\n",
    "import pandas as pd\n",
    "\n",
    "import tensorflow as tf\n",
    "import matplotlib\n",
    "import matplotlib.pyplot as plt\n",
    "%matplotlib inline\n",
    "\n",
    "from tqdm import tqdm\n",
    "from itertools import chain\n",
    "\n",
    "from skimage.transform import resize\n",
    "from skimage.morphology import label\n",
    "from skimage.io import imread, imshow, imread_collection, concatenate_images\n",
    "\n",
    "from keras import backend as K\n",
    "from keras.layers import Input\n",
    "from keras.preprocessing import image\n",
    "from keras.layers.merge import concatenate\n",
    "from keras.models import Model, load_model\n",
    "from keras.layers.core import Dropout, Lambda\n",
    "from keras.layers.pooling import MaxPooling2D\n",
    "from keras.callbacks import EarlyStopping, ModelCheckpoint\n",
    "from keras.layers.convolutional import Conv2D, Conv2DTranspose\n",
    "\n",
    "seed1 = 42\n",
    "np.random.seed(10)\n",
    "tf.set_random_seed(4422)\n",
    "\n",
    "warnings.filterwarnings('ignore', category=UserWarning, module='skimage')"
   ]
  },
  {
   "cell_type": "code",
   "execution_count": 3,
   "metadata": {},
   "outputs": [],
   "source": [
    "config = tf.ConfigProto()\n",
    "config.gpu_options.allow_growth = True\n",
    "config.gpu_options.per_process_gpu_memory_fraction = 0.33\n",
    "sess = tf.InteractiveSession(config = config)"
   ]
  },
  {
   "cell_type": "code",
   "execution_count": 4,
   "metadata": {},
   "outputs": [],
   "source": [
    "train_path = '/N/u/priyadarshini/project/Nucleaidetection/data/data/stage1_train/'\n",
    "test_path = '/N/u/priyadarshini/project/Nucleaidetection/data/data/stage1_test/'"
   ]
  },
  {
   "cell_type": "markdown",
   "metadata": {
    "_cell_guid": "b2464b8e-77ba-44b1-8c78-06b1e690910d",
    "_uuid": "a3c37b92fa214f1be75ac3630927555ff40674b2"
   },
   "source": [
    "###  1. Data Preprocessing"
   ]
  },
  {
   "cell_type": "code",
   "execution_count": 5,
   "metadata": {},
   "outputs": [],
   "source": [
    "#Getting the ids\n",
    "train_ids = next(os.walk(train_path))[1]\n",
    "test_ids = next(os.walk(test_path))[1]"
   ]
  },
  {
   "cell_type": "code",
   "execution_count": 6,
   "metadata": {},
   "outputs": [],
   "source": [
    "#Loading the Parameters\n",
    "batch_size = 10\n",
    "image_width = 128\n",
    "image_height = 128\n",
    "channels = 3"
   ]
  },
  {
   "cell_type": "code",
   "execution_count": 7,
   "metadata": {},
   "outputs": [
    {
     "name": "stdout",
     "output_type": "stream",
     "text": [
      "Resized the train images and masks.\n"
     ]
    }
   ],
   "source": [
    "#Resizing the images\n",
    "X_train = np.zeros((len(train_ids), image_height, image_width, channels), dtype=np.uint8)\n",
    "Y_train = np.zeros((len(train_ids), image_height, image_width, 1), dtype=np.bool)\n",
    "for i, id_ in enumerate(train_ids):\n",
    "    img = imread(train_path + id_ + '/images/' + id_ + '.png')[:,:,:channels]\n",
    "    X_train[i] = resize(img, (image_height, image_width), mode='constant', preserve_range=True)\n",
    "    combined_mask = np.zeros((image_height, image_width, 1), dtype=np.bool)\n",
    "    for file in next(os.walk(train_path + id_ + '/masks/'))[2]:\n",
    "        mask = imread(train_path + id_  + '/masks/' + file)\n",
    "        mask = np.expand_dims(resize(mask, (image_height, image_width), mode='constant', \n",
    "                                      preserve_range=True), axis=-1)\n",
    "        combined_mask = np.maximum(combined_mask, mask)\n",
    "    Y_train[i] = combined_mask\n",
    "print('Resized the train images and masks.')"
   ]
  },
  {
   "cell_type": "code",
   "execution_count": 8,
   "metadata": {},
   "outputs": [
    {
     "name": "stdout",
     "output_type": "stream",
     "text": [
      "Resized the test images\n"
     ]
    }
   ],
   "source": [
    "X_test = np.zeros((len(test_ids), image_height, image_width, channels), dtype=np.uint8)\n",
    "sizes_test = []\n",
    "for i, id_ in enumerate(test_ids):\n",
    "    img = imread(test_path + id_ + '/images/' + id_ + '.png')[:,:,:channels]\n",
    "    sizes_test.append([img.shape[0], img.shape[1]])\n",
    "    X_test[i] = resize(img, (image_height, image_width), mode='constant', preserve_range=True)\n",
    "\n",
    "print('Resized the test images')"
   ]
  },
  {
   "cell_type": "code",
   "execution_count": 9,
   "metadata": {},
   "outputs": [],
   "source": [
    "import numpy as np \n",
    "\n",
    "def RLE_encoding_to_mask(rle_line,height,width):\n",
    "  rows,cols = height,width\n",
    "  rleNumbers = [int(numstring) for numstring in rle_line.split(' ')]\n",
    "  rle_p = np.array(rleNumbers).reshape(-1,2)\n",
    "  img = np.zeros(rows*cols,dtype=np.uint8)\n",
    "  for index,length in rle_p:\n",
    "    index -= 1\n",
    "    img[index:index+length] = 255\n",
    "  img = img.reshape(cols,rows)\n",
    "  img = img.T\n",
    "  return img"
   ]
  },
  {
   "cell_type": "code",
   "execution_count": 42,
   "metadata": {},
   "outputs": [
    {
     "name": "stdout",
     "output_type": "stream",
     "text": [
      "Creating Test masks...\n",
      "Done\n"
     ]
    }
   ],
   "source": [
    "test_df = pd.read_csv('/N/u/priyadarshini/project/Nucleaidetection/data/data/stage1_solution.csv')\n",
    "\n",
    "print('Creating Test masks...')\n",
    "\n",
    "Y_test = np.zeros((len(test_ids), image_height, image_width, 1), dtype=np.bool)\n",
    "for n, id_ in enumerate(test_ids):\n",
    "   mask = np.zeros((image_height, image_width, 1), dtype=np.bool)\n",
    "   df = test_df.loc[test_df['ImageId'] == id_]\n",
    "   \n",
    "   for i in range (0,(df).shape[0]) :\n",
    "         mask_ = RLE_encoding_to_mask(df.iloc[i,1],256,256)\n",
    "         mask_ = np.expand_dims(resize(mask_, (image_height, image_width), mode='constant', \n",
    "                                      preserve_range=True), axis=-1)\n",
    "         mask = np.maximum(mask, mask_)\n",
    "   Y_test[n] = mask\n",
    "\n",
    "\n",
    "print('Done')\n",
    "\n"
   ]
  },
  {
   "cell_type": "markdown",
   "metadata": {
    "_cell_guid": "5f70481c-7b7b-4f60-8d11-e0e36030697c",
    "_uuid": "1593b0eb0503758424ce1ec5ded8d59557d4d1df"
   },
   "source": [
    "###  2. Data Augmentation"
   ]
  },
  {
   "cell_type": "code",
   "execution_count": 11,
   "metadata": {
    "_cell_guid": "0e78cfea-5120-4c18-80a0-fd09964e024d",
    "_uuid": "7448169cf1949461f30735a89f96b4c4003dccea"
   },
   "outputs": [],
   "source": [
    "# Images and Mask generators\n",
    "image_datagen = image.ImageDataGenerator(shear_range=0.5, rotation_range=50, zoom_range=0.2, width_shift_range=0.2, height_shift_range=0.2, fill_mode='reflect')\n",
    "mask_datagen = image.ImageDataGenerator(shear_range=0.5, rotation_range=50, zoom_range=0.2, width_shift_range=0.2, height_shift_range=0.2, fill_mode='reflect')\n",
    "\n",
    "image_datagen_val = image.ImageDataGenerator()\n",
    "mask_datagen_val = image.ImageDataGenerator()\n",
    "\n",
    "image_datagen.fit(X_train[:int(X_train.shape[0]*0.9)], augment=True, seed=56)\n",
    "mask_datagen.fit(Y_train[:int(Y_train.shape[0]*0.9)], augment=True, seed=56)\n",
    "\n",
    "image_datagen_val.fit(X_train[int(X_train.shape[0]*0.9):], augment=True, seed=56)\n",
    "mask_datagen_val.fit(Y_train[int(Y_train.shape[0]*0.9):], augment=True, seed=56)\n",
    "\n",
    "x=image_datagen.flow(X_train[:int(X_train.shape[0]*0.9)],batch_size=batch_size,shuffle=True, seed=56)\n",
    "y=mask_datagen.flow(Y_train[:int(Y_train.shape[0]*0.9)],batch_size=batch_size,shuffle=True, seed=56)\n",
    "\n",
    "x_val=image_datagen_val.flow(X_train[int(X_train.shape[0]*0.9):],batch_size=batch_size,shuffle=True, seed=56)\n",
    "y_val=mask_datagen_val.flow(Y_train[int(Y_train.shape[0]*0.9):],batch_size=batch_size,shuffle=True, seed=56)\n",
    "\n",
    "train_generator = zip(x, y)\n",
    "val_generator = zip(x_val, y_val)"
   ]
  },
  {
   "cell_type": "code",
   "execution_count": 12,
   "metadata": {},
   "outputs": [],
   "source": [
    "def iou_metric(true, pred, print_table=False):\n",
    "    true = label(true > 0.5)\n",
    "    pred = label(pred > 0.5)\n",
    "    i = np.histogram2d(true.flatten(), pred.flatten(), bins=(len(np.unique(true)), len(np.unique(pred))))[0]#intersection of true and prediction\n",
    "    ta = np.histogram(true, bins = len(np.unique(true)))[0] #Area of true label\n",
    "    pa = np.histogram(pred, bins = len(np.unique(pred)))[0] #Area of predicted label\n",
    "    u = np.expand_dims(ta, -1) + np.expand_dims(pa, 0) - i  # true+pred-intersection\n",
    "    i = i[1:,1:]\n",
    "    u = u[1:,1:]\n",
    "    u[u == 0] = 1e-9\n",
    "    precisions = []   \n",
    "    for threshold in np.arange(0.5, 1.0, 0.05):\n",
    "        tp = np.sum(np.sum(((i/u) > threshold), axis=1) == 1) #true positive\n",
    "        fp = np.sum(np.sum(((i/u) > threshold), axis=0) == 0) #false positive\n",
    "        fn = np.sum(np.sum(((i/u) > threshold), axis=1) == 0) #false negative\n",
    "        precisions.append(tp / (tp + fp + fn) if (tp + fp + fn) > 0 else 0)            \n",
    "    return np.mean(precisions)\n",
    "\n",
    "def iou_metric_batch(true, pred):\n",
    "    metric = [iou_metric(true[i], pred[i]) for i in range(true.shape[0])]\n",
    "    return np.array(np.mean(metric), dtype=np.float32)\n",
    "\n",
    "def mean_iou(true, pred):\n",
    "    return tf.py_func(iou_metric_batch, [true, pred], tf.float32)"
   ]
  },
  {
   "cell_type": "code",
   "execution_count": 15,
   "metadata": {},
   "outputs": [],
   "source": [
    "from keras import backend as K\n",
    "from keras.metrics import binary_crossentropy\n",
    "smooth = 1.\n",
    "\n",
    "def dice_coef(y_true, y_pred):\n",
    "    y_true_f = K.flatten(y_true)\n",
    "    y_pred_f = K.flatten(y_pred)\n",
    "    intersection = K.sum(y_true_f * y_pred_f)\n",
    "    return (2. * intersection + smooth) / (K.sum(y_true_f) + K.sum(y_pred_f) + smooth)\n",
    "def bce_dice(y_true, y_pred):\n",
    "    return binary_crossentropy(y_true, y_pred)-K.log(dice_coef(y_true, y_pred))"
   ]
  },
  {
   "cell_type": "markdown",
   "metadata": {},
   "source": [
    "###  3. U-net"
   ]
  },
  {
   "cell_type": "code",
   "execution_count": 13,
   "metadata": {
    "_cell_guid": "0f97a2d9-a9a0-4399-bbca-198cdda087b6",
    "_uuid": "ab499cefbbe8dc514c6347fe203d87eb7974adf0",
    "scrolled": true
   },
   "outputs": [
    {
     "name": "stdout",
     "output_type": "stream",
     "text": [
      "__________________________________________________________________________________________________\n",
      "Layer (type)                    Output Shape         Param #     Connected to                     \n",
      "==================================================================================================\n",
      "input_1 (InputLayer)            (None, 256, 256, 3)  0                                            \n",
      "__________________________________________________________________________________________________\n",
      "lambda_1 (Lambda)               (None, 256, 256, 3)  0           input_1[0][0]                    \n",
      "__________________________________________________________________________________________________\n",
      "conv2d_1 (Conv2D)               (None, 256, 256, 16) 448         lambda_1[0][0]                   \n",
      "__________________________________________________________________________________________________\n",
      "dropout_1 (Dropout)             (None, 256, 256, 16) 0           conv2d_1[0][0]                   \n",
      "__________________________________________________________________________________________________\n",
      "conv2d_2 (Conv2D)               (None, 256, 256, 16) 2320        dropout_1[0][0]                  \n",
      "__________________________________________________________________________________________________\n",
      "max_pooling2d_1 (MaxPooling2D)  (None, 128, 128, 16) 0           conv2d_2[0][0]                   \n",
      "__________________________________________________________________________________________________\n",
      "conv2d_3 (Conv2D)               (None, 128, 128, 32) 4640        max_pooling2d_1[0][0]            \n",
      "__________________________________________________________________________________________________\n",
      "dropout_2 (Dropout)             (None, 128, 128, 32) 0           conv2d_3[0][0]                   \n",
      "__________________________________________________________________________________________________\n",
      "conv2d_4 (Conv2D)               (None, 128, 128, 32) 9248        dropout_2[0][0]                  \n",
      "__________________________________________________________________________________________________\n",
      "max_pooling2d_2 (MaxPooling2D)  (None, 64, 64, 32)   0           conv2d_4[0][0]                   \n",
      "__________________________________________________________________________________________________\n",
      "conv2d_5 (Conv2D)               (None, 64, 64, 64)   18496       max_pooling2d_2[0][0]            \n",
      "__________________________________________________________________________________________________\n",
      "dropout_3 (Dropout)             (None, 64, 64, 64)   0           conv2d_5[0][0]                   \n",
      "__________________________________________________________________________________________________\n",
      "conv2d_6 (Conv2D)               (None, 64, 64, 64)   36928       dropout_3[0][0]                  \n",
      "__________________________________________________________________________________________________\n",
      "max_pooling2d_3 (MaxPooling2D)  (None, 32, 32, 64)   0           conv2d_6[0][0]                   \n",
      "__________________________________________________________________________________________________\n",
      "conv2d_7 (Conv2D)               (None, 32, 32, 128)  73856       max_pooling2d_3[0][0]            \n",
      "__________________________________________________________________________________________________\n",
      "dropout_4 (Dropout)             (None, 32, 32, 128)  0           conv2d_7[0][0]                   \n",
      "__________________________________________________________________________________________________\n",
      "conv2d_8 (Conv2D)               (None, 32, 32, 128)  147584      dropout_4[0][0]                  \n",
      "__________________________________________________________________________________________________\n",
      "max_pooling2d_4 (MaxPooling2D)  (None, 16, 16, 128)  0           conv2d_8[0][0]                   \n",
      "__________________________________________________________________________________________________\n",
      "conv2d_9 (Conv2D)               (None, 16, 16, 256)  295168      max_pooling2d_4[0][0]            \n",
      "__________________________________________________________________________________________________\n",
      "dropout_5 (Dropout)             (None, 16, 16, 256)  0           conv2d_9[0][0]                   \n",
      "__________________________________________________________________________________________________\n",
      "conv2d_10 (Conv2D)              (None, 16, 16, 256)  590080      dropout_5[0][0]                  \n",
      "__________________________________________________________________________________________________\n",
      "conv2d_transpose_1 (Conv2DTrans (None, 32, 32, 128)  131200      conv2d_10[0][0]                  \n",
      "__________________________________________________________________________________________________\n",
      "concatenate_1 (Concatenate)     (None, 32, 32, 256)  0           conv2d_transpose_1[0][0]         \n",
      "                                                                 conv2d_8[0][0]                   \n",
      "__________________________________________________________________________________________________\n",
      "conv2d_11 (Conv2D)              (None, 32, 32, 128)  295040      concatenate_1[0][0]              \n",
      "__________________________________________________________________________________________________\n",
      "dropout_6 (Dropout)             (None, 32, 32, 128)  0           conv2d_11[0][0]                  \n",
      "__________________________________________________________________________________________________\n",
      "conv2d_12 (Conv2D)              (None, 32, 32, 128)  147584      dropout_6[0][0]                  \n",
      "__________________________________________________________________________________________________\n",
      "conv2d_transpose_2 (Conv2DTrans (None, 64, 64, 64)   32832       conv2d_12[0][0]                  \n",
      "__________________________________________________________________________________________________\n",
      "concatenate_2 (Concatenate)     (None, 64, 64, 128)  0           conv2d_transpose_2[0][0]         \n",
      "                                                                 conv2d_6[0][0]                   \n",
      "__________________________________________________________________________________________________\n",
      "conv2d_13 (Conv2D)              (None, 64, 64, 64)   73792       concatenate_2[0][0]              \n",
      "__________________________________________________________________________________________________\n",
      "dropout_7 (Dropout)             (None, 64, 64, 64)   0           conv2d_13[0][0]                  \n",
      "__________________________________________________________________________________________________\n",
      "conv2d_14 (Conv2D)              (None, 64, 64, 64)   36928       dropout_7[0][0]                  \n",
      "__________________________________________________________________________________________________\n",
      "conv2d_transpose_3 (Conv2DTrans (None, 128, 128, 32) 8224        conv2d_14[0][0]                  \n",
      "__________________________________________________________________________________________________\n",
      "concatenate_3 (Concatenate)     (None, 128, 128, 64) 0           conv2d_transpose_3[0][0]         \n",
      "                                                                 conv2d_4[0][0]                   \n",
      "__________________________________________________________________________________________________\n",
      "conv2d_15 (Conv2D)              (None, 128, 128, 32) 18464       concatenate_3[0][0]              \n",
      "__________________________________________________________________________________________________\n",
      "dropout_8 (Dropout)             (None, 128, 128, 32) 0           conv2d_15[0][0]                  \n",
      "__________________________________________________________________________________________________\n",
      "conv2d_16 (Conv2D)              (None, 128, 128, 32) 9248        dropout_8[0][0]                  \n",
      "__________________________________________________________________________________________________\n",
      "conv2d_transpose_4 (Conv2DTrans (None, 256, 256, 16) 2064        conv2d_16[0][0]                  \n",
      "__________________________________________________________________________________________________\n",
      "concatenate_4 (Concatenate)     (None, 256, 256, 32) 0           conv2d_transpose_4[0][0]         \n",
      "                                                                 conv2d_2[0][0]                   \n",
      "__________________________________________________________________________________________________\n",
      "conv2d_17 (Conv2D)              (None, 256, 256, 16) 4624        concatenate_4[0][0]              \n",
      "__________________________________________________________________________________________________\n",
      "dropout_9 (Dropout)             (None, 256, 256, 16) 0           conv2d_17[0][0]                  \n",
      "__________________________________________________________________________________________________\n",
      "conv2d_18 (Conv2D)              (None, 256, 256, 16) 2320        dropout_9[0][0]                  \n",
      "__________________________________________________________________________________________________\n",
      "conv2d_19 (Conv2D)              (None, 256, 256, 1)  17          conv2d_18[0][0]                  \n",
      "==================================================================================================\n",
      "Total params: 1,941,105\n",
      "Trainable params: 1,941,105\n",
      "Non-trainable params: 0\n",
      "__________________________________________________________________________________________________\n"
     ]
    }
   ],
   "source": [
    "#Building the model\n",
    "inputs = Input((image_height, image_width, channels))\n",
    "s = Lambda(lambda x: x / 255) (inputs)\n",
    "\n",
    "c1 = Conv2D(16, (3, 3), activation='elu', kernel_initializer='he_normal', padding='same') (s)\n",
    "c1 = Dropout(0.1) (c1)\n",
    "c1 = Conv2D(16, (3, 3), activation='elu', kernel_initializer='he_normal', padding='same') (c1)\n",
    "p1 = MaxPooling2D((2, 2)) (c1)\n",
    "\n",
    "c2 = Conv2D(32, (3, 3), activation='elu', kernel_initializer='he_normal', padding='same') (p1)\n",
    "c2 = Dropout(0.1) (c2)\n",
    "c2 = Conv2D(32, (3, 3), activation='elu', kernel_initializer='he_normal', padding='same') (c2)\n",
    "p2 = MaxPooling2D((2, 2)) (c2)\n",
    "\n",
    "c3 = Conv2D(64, (3, 3), activation='elu', kernel_initializer='he_normal', padding='same') (p2)\n",
    "c3 = Dropout(0.2) (c3)\n",
    "c3 = Conv2D(64, (3, 3), activation='elu', kernel_initializer='he_normal', padding='same') (c3)\n",
    "p3 = MaxPooling2D((2, 2)) (c3)\n",
    "\n",
    "c4 = Conv2D(128, (3, 3), activation='elu', kernel_initializer='he_normal', padding='same') (p3)\n",
    "c4 = Dropout(0.2) (c4)\n",
    "c4 = Conv2D(128, (3, 3), activation='elu', kernel_initializer='he_normal', padding='same') (c4)\n",
    "p4 = MaxPooling2D(pool_size=(2, 2)) (c4)\n",
    "\n",
    "c5 = Conv2D(256, (3, 3), activation='elu', kernel_initializer='he_normal', padding='same') (p4)\n",
    "c5 = Dropout(0.3) (c5)\n",
    "c5 = Conv2D(256, (3, 3), activation='elu', kernel_initializer='he_normal', padding='same') (c5)\n",
    "\n",
    "u6 = Conv2DTranspose(128, (2, 2), strides=(2, 2), padding='same') (c5)\n",
    "u6 = concatenate([u6, c4])\n",
    "c6 = Conv2D(128, (3, 3), activation='elu', kernel_initializer='he_normal', padding='same') (u6)\n",
    "c6 = Dropout(0.2) (c6)\n",
    "c6 = Conv2D(128, (3, 3), activation='elu', kernel_initializer='he_normal', padding='same') (c6)\n",
    "\n",
    "u7 = Conv2DTranspose(64, (2, 2), strides=(2, 2), padding='same') (c6)\n",
    "u7 = concatenate([u7, c3])\n",
    "c7 = Conv2D(64, (3, 3), activation='elu', kernel_initializer='he_normal', padding='same') (u7)\n",
    "c7 = Dropout(0.2) (c7)\n",
    "c7 = Conv2D(64, (3, 3), activation='elu', kernel_initializer='he_normal', padding='same') (c7)\n",
    "\n",
    "u8 = Conv2DTranspose(32, (2, 2), strides=(2, 2), padding='same') (c7)\n",
    "u8 = concatenate([u8, c2])\n",
    "c8 = Conv2D(32, (3, 3), activation='elu', kernel_initializer='he_normal', padding='same') (u8)\n",
    "c8 = Dropout(0.1) (c8)\n",
    "c8 = Conv2D(32, (3, 3), activation='elu', kernel_initializer='he_normal', padding='same') (c8)\n",
    "\n",
    "u9 = Conv2DTranspose(16, (2, 2), strides=(2, 2), padding='same') (c8)\n",
    "u9 = concatenate([u9, c1], axis=3)\n",
    "c9 = Conv2D(16, (3, 3), activation='elu', kernel_initializer='he_normal', padding='same') (u9)\n",
    "c9 = Dropout(0.1) (c9)\n",
    "c9 = Conv2D(16, (3, 3), activation='elu', kernel_initializer='he_normal', padding='same') (c9)\n",
    "\n",
    "outputs = Conv2D(1, (1, 1), activation='sigmoid') (c9)\n",
    "\n",
    "model = Model(inputs=[inputs], outputs=[outputs])\n",
    "model.compile(optimizer='adam', loss='binary_crossentropy', metrics=[mean_iou])\n",
    "\n",
    "model_DA = Model(inputs=[inputs], outputs=[outputs])\n",
    "model_DA.compile(optimizer='adam', loss='binary_crossentropy', metrics=[mean_iou])\n",
    "model_DA.summary()"
   ]
  },
  {
   "cell_type": "code",
   "execution_count": 14,
   "metadata": {
    "scrolled": false
   },
   "outputs": [
    {
     "name": "stdout",
     "output_type": "stream",
     "text": [
      "Train on 603 samples, validate on 67 samples\n",
      "Epoch 1/100\n",
      "603/603 [==============================] - 14s 24ms/step - loss: 0.2896 - mean_iou: 0.1024 - val_loss: 0.1425 - val_mean_iou: 0.2255\n",
      "\n",
      "Epoch 00001: val_loss improved from inf to 0.14253, saving model to U-Net-model-dsbowl2018-1.h5\n",
      "Epoch 2/100\n",
      "603/603 [==============================] - 10s 17ms/step - loss: 0.1343 - mean_iou: 0.2890 - val_loss: 0.5918 - val_mean_iou: 0.1631\n",
      "\n",
      "Epoch 00002: val_loss did not improve\n",
      "Epoch 3/100\n",
      "603/603 [==============================] - 10s 17ms/step - loss: 0.1211 - mean_iou: 0.3484 - val_loss: 0.1023 - val_mean_iou: 0.3927\n",
      "\n",
      "Epoch 00003: val_loss improved from 0.14253 to 0.10228, saving model to U-Net-model-dsbowl2018-1.h5\n",
      "Epoch 4/100\n",
      "603/603 [==============================] - 10s 17ms/step - loss: 0.1002 - mean_iou: 0.4078 - val_loss: 0.1138 - val_mean_iou: 0.3738\n",
      "\n",
      "Epoch 00004: val_loss did not improve\n",
      "Epoch 5/100\n",
      "603/603 [==============================] - 10s 17ms/step - loss: 0.1086 - mean_iou: 0.3923 - val_loss: 0.0890 - val_mean_iou: 0.4288\n",
      "\n",
      "Epoch 00005: val_loss improved from 0.10228 to 0.08897, saving model to U-Net-model-dsbowl2018-1.h5\n",
      "Epoch 6/100\n",
      "603/603 [==============================] - 10s 17ms/step - loss: 0.0963 - mean_iou: 0.4353 - val_loss: 0.0907 - val_mean_iou: 0.4559\n",
      "\n",
      "Epoch 00006: val_loss did not improve\n",
      "Epoch 7/100\n",
      "603/603 [==============================] - 10s 17ms/step - loss: 0.0980 - mean_iou: 0.4402 - val_loss: 0.0891 - val_mean_iou: 0.4414\n",
      "\n",
      "Epoch 00007: val_loss did not improve\n",
      "Epoch 8/100\n",
      "603/603 [==============================] - 10s 17ms/step - loss: 0.0955 - mean_iou: 0.4488 - val_loss: 0.0930 - val_mean_iou: 0.4717\n",
      "\n",
      "Epoch 00008: val_loss did not improve\n",
      "Epoch 9/100\n",
      "603/603 [==============================] - 10s 17ms/step - loss: 0.0948 - mean_iou: 0.4587 - val_loss: 0.0877 - val_mean_iou: 0.4293\n",
      "\n",
      "Epoch 00009: val_loss improved from 0.08897 to 0.08771, saving model to U-Net-model-dsbowl2018-1.h5\n",
      "Epoch 10/100\n",
      "603/603 [==============================] - 10s 17ms/step - loss: 0.0860 - mean_iou: 0.4774 - val_loss: 0.0928 - val_mean_iou: 0.4268\n",
      "\n",
      "Epoch 00010: val_loss did not improve\n",
      "Epoch 11/100\n",
      "603/603 [==============================] - 10s 17ms/step - loss: 0.0843 - mean_iou: 0.4727 - val_loss: 0.0800 - val_mean_iou: 0.4878\n",
      "\n",
      "Epoch 00011: val_loss improved from 0.08771 to 0.07996, saving model to U-Net-model-dsbowl2018-1.h5\n",
      "Epoch 12/100\n",
      "603/603 [==============================] - 10s 17ms/step - loss: 0.0811 - mean_iou: 0.4864 - val_loss: 0.0773 - val_mean_iou: 0.4702\n",
      "\n",
      "Epoch 00012: val_loss improved from 0.07996 to 0.07731, saving model to U-Net-model-dsbowl2018-1.h5\n",
      "Epoch 13/100\n",
      "603/603 [==============================] - 10s 17ms/step - loss: 0.0795 - mean_iou: 0.4930 - val_loss: 0.0815 - val_mean_iou: 0.4722\n",
      "\n",
      "Epoch 00013: val_loss did not improve\n",
      "Epoch 14/100\n",
      "603/603 [==============================] - 10s 17ms/step - loss: 0.0807 - mean_iou: 0.4867 - val_loss: 0.0727 - val_mean_iou: 0.5111\n",
      "\n",
      "Epoch 00014: val_loss improved from 0.07731 to 0.07272, saving model to U-Net-model-dsbowl2018-1.h5\n",
      "Epoch 15/100\n",
      "603/603 [==============================] - 10s 17ms/step - loss: 0.0785 - mean_iou: 0.4897 - val_loss: 0.0862 - val_mean_iou: 0.4457\n",
      "\n",
      "Epoch 00015: val_loss did not improve\n",
      "Epoch 16/100\n",
      "603/603 [==============================] - 10s 17ms/step - loss: 0.0776 - mean_iou: 0.5000 - val_loss: 0.0805 - val_mean_iou: 0.5006\n",
      "\n",
      "Epoch 00016: val_loss did not improve\n",
      "Epoch 17/100\n",
      "603/603 [==============================] - 10s 17ms/step - loss: 0.0762 - mean_iou: 0.4970 - val_loss: 0.0738 - val_mean_iou: 0.5144\n",
      "\n",
      "Epoch 00017: val_loss did not improve\n",
      "Epoch 18/100\n",
      "603/603 [==============================] - 10s 17ms/step - loss: 0.0760 - mean_iou: 0.5013 - val_loss: 0.0821 - val_mean_iou: 0.4727\n",
      "\n",
      "Epoch 00018: val_loss did not improve\n",
      "Epoch 19/100\n",
      "603/603 [==============================] - 10s 17ms/step - loss: 0.0761 - mean_iou: 0.5028 - val_loss: 0.0751 - val_mean_iou: 0.4983\n",
      "\n",
      "Epoch 00019: val_loss did not improve\n",
      "Epoch 00019: early stopping\n"
     ]
    }
   ],
   "source": [
    "# Fitting model without augmented Data\n",
    "earlystopper = EarlyStopping(patience=5, verbose=1)\n",
    "checkpointer = ModelCheckpoint('U-Net-model-dsbowl2018-1.h5', verbose=1, save_best_only=True)\n",
    "results = model.fit(X_train, Y_train, validation_split=0.1, batch_size=8, epochs=100, \n",
    "                    callbacks=[earlystopper, checkpointer])"
   ]
  },
  {
   "cell_type": "code",
   "execution_count": 15,
   "metadata": {
    "_cell_guid": "2cc45263-7607-4d9d-b0e0-88b3135ba60b",
    "_uuid": "440055f1d1feb25fe08f942d15257e2454d2022b"
   },
   "outputs": [
    {
     "name": "stdout",
     "output_type": "stream",
     "text": [
      "Epoch 1/50\n",
      "250/250 [==============================] - 52s 206ms/step - loss: 0.0892 - mean_iou: 0.4534 - val_loss: 0.0704 - val_mean_iou: 0.5013\n",
      "\n",
      "Epoch 00001: val_loss improved from inf to 0.07039, saving model to U-Net-with-data-augmentation-model-dsbowl2018-1.h5\n",
      "Epoch 2/50\n",
      "250/250 [==============================] - 52s 206ms/step - loss: 0.1091 - mean_iou: 0.4146 - val_loss: 0.0738 - val_mean_iou: 0.5003\n",
      "\n",
      "Epoch 00002: val_loss did not improve\n",
      "Epoch 3/50\n",
      "250/250 [==============================] - 53s 211ms/step - loss: 0.1024 - mean_iou: 0.4310 - val_loss: 0.0690 - val_mean_iou: 0.4847\n",
      "\n",
      "Epoch 00003: val_loss improved from 0.07039 to 0.06900, saving model to U-Net-with-data-augmentation-model-dsbowl2018-1.h5\n",
      "Epoch 4/50\n",
      "250/250 [==============================] - 52s 209ms/step - loss: 0.0977 - mean_iou: 0.4436 - val_loss: 0.0704 - val_mean_iou: 0.5073\n",
      "\n",
      "Epoch 00004: val_loss did not improve\n",
      "Epoch 5/50\n",
      "250/250 [==============================] - 53s 211ms/step - loss: 0.0922 - mean_iou: 0.4570 - val_loss: 0.0657 - val_mean_iou: 0.5220\n",
      "\n",
      "Epoch 00005: val_loss improved from 0.06900 to 0.06566, saving model to U-Net-with-data-augmentation-model-dsbowl2018-1.h5\n",
      "Epoch 6/50\n",
      "250/250 [==============================] - 52s 209ms/step - loss: 0.0971 - mean_iou: 0.4325 - val_loss: 0.0681 - val_mean_iou: 0.5007\n",
      "\n",
      "Epoch 00006: val_loss did not improve\n",
      "Epoch 7/50\n",
      "250/250 [==============================] - 52s 206ms/step - loss: 0.0970 - mean_iou: 0.4528 - val_loss: 0.0675 - val_mean_iou: 0.5322\n",
      "\n",
      "Epoch 00007: val_loss did not improve\n",
      "Epoch 8/50\n",
      "250/250 [==============================] - 51s 205ms/step - loss: 0.0999 - mean_iou: 0.4416 - val_loss: 0.0682 - val_mean_iou: 0.5016\n",
      "\n",
      "Epoch 00008: val_loss did not improve\n",
      "Epoch 9/50\n",
      "250/250 [==============================] - 51s 204ms/step - loss: 0.1005 - mean_iou: 0.4337 - val_loss: 0.0695 - val_mean_iou: 0.5047\n",
      "\n",
      "Epoch 00009: val_loss did not improve\n",
      "Epoch 10/50\n",
      "250/250 [==============================] - 50s 201ms/step - loss: 0.0955 - mean_iou: 0.4571 - val_loss: 0.0625 - val_mean_iou: 0.5319\n",
      "\n",
      "Epoch 00010: val_loss improved from 0.06566 to 0.06246, saving model to U-Net-with-data-augmentation-model-dsbowl2018-1.h5\n",
      "Epoch 11/50\n",
      "250/250 [==============================] - 52s 207ms/step - loss: 0.0903 - mean_iou: 0.4676 - val_loss: 0.0698 - val_mean_iou: 0.5027\n",
      "\n",
      "Epoch 00011: val_loss did not improve\n",
      "Epoch 12/50\n",
      "250/250 [==============================] - 51s 205ms/step - loss: 0.0988 - mean_iou: 0.4421 - val_loss: 0.0713 - val_mean_iou: 0.4834\n",
      "\n",
      "Epoch 00012: val_loss did not improve\n",
      "Epoch 13/50\n",
      "250/250 [==============================] - 51s 204ms/step - loss: 0.0917 - mean_iou: 0.4581 - val_loss: 0.0619 - val_mean_iou: 0.5338\n",
      "\n",
      "Epoch 00013: val_loss improved from 0.06246 to 0.06187, saving model to U-Net-with-data-augmentation-model-dsbowl2018-1.h5\n",
      "Epoch 14/50\n",
      "250/250 [==============================] - 51s 204ms/step - loss: 0.0973 - mean_iou: 0.4497 - val_loss: 0.0699 - val_mean_iou: 0.4912\n",
      "\n",
      "Epoch 00014: val_loss did not improve\n",
      "Epoch 15/50\n",
      "250/250 [==============================] - 51s 204ms/step - loss: 0.0930 - mean_iou: 0.4478 - val_loss: 0.0662 - val_mean_iou: 0.4855\n",
      "\n",
      "Epoch 00015: val_loss did not improve\n",
      "Epoch 16/50\n",
      "250/250 [==============================] - 52s 206ms/step - loss: 0.0966 - mean_iou: 0.4377 - val_loss: 0.0674 - val_mean_iou: 0.5193\n",
      "\n",
      "Epoch 00016: val_loss did not improve\n",
      "Epoch 17/50\n",
      "250/250 [==============================] - 52s 209ms/step - loss: 0.0982 - mean_iou: 0.4433 - val_loss: 0.0719 - val_mean_iou: 0.4898\n",
      "\n",
      "Epoch 00017: val_loss did not improve\n",
      "Epoch 18/50\n",
      "250/250 [==============================] - 53s 211ms/step - loss: 0.1014 - mean_iou: 0.4311 - val_loss: 0.0671 - val_mean_iou: 0.5018\n",
      "\n",
      "Epoch 00018: val_loss did not improve\n",
      "Epoch 00018: early stopping\n"
     ]
    }
   ],
   "source": [
    "# Fitting the model with Augmented Data\n",
    "earlystopper_DA = EarlyStopping(patience=5, verbose=1)\n",
    "checkpointer_DA = ModelCheckpoint('U-Net-with-data-augmentation-model-dsbowl2018-1.h5', verbose=1, save_best_only=True)\n",
    "results_DA = model_DA.fit_generator(train_generator, validation_data=val_generator, validation_steps=10, steps_per_epoch=250,\n",
    "                              epochs=50, callbacks=[earlystopper_DA, checkpointer_DA])"
   ]
  },
  {
   "cell_type": "code",
   "execution_count": 40,
   "metadata": {},
   "outputs": [],
   "source": [
    "no_aug_model_Unet = 'U-Net-model-dsbowl2018-1.h5'\n",
    "aug_model_Unet = 'U-Net-with-data-augmentation-model-dsbowl2018-1.h5'\n",
    "\n",
    "no_aug_model_Linknet = 'Link-Net-model-dsbowl2018-1.h5'\n",
    "aug_model_Linknet = 'Link-Net-with-data-augmentation-model-dsbowl2018-1.h5'"
   ]
  },
  {
   "cell_type": "code",
   "execution_count": 36,
   "metadata": {},
   "outputs": [],
   "source": [
    "def display_predicted_images(model1, model2) :\n",
    "    # Predicting on train, val and test using models that we built \n",
    "    unet_model = (load_model('U-Net-with-data-augmentation-model-dsbowl2018-1.h5', custom_objects={'mean_iou': mean_iou}))\n",
    "    linknet_model = load_model('Link-Net-with-data-augmentation-model-dsbowl2018-1.h5', custom_objects={'mean_iou': mean_iou}, compile = False)\n",
    "    \n",
    "    \n",
    "    preds_train_unet = unet_model.predict(X_train[:int(X_train.shape[0]*0.9)])\n",
    "    preds_val_unet = unet_model.predict(X_train[int(X_train.shape[0]*0.9):])\n",
    "    preds_test_unet = unet_model.predict(X_test)\n",
    "    \n",
    "    preds_train_linknet = linknet_model.predict(X_train[:int(X_train.shape[0]*0.9)])\n",
    "    preds_val_linknet = linknet_model.predict(X_train[int(X_train.shape[0]*0.9):])\n",
    "    preds_test_linknet = linknet_model.predict(X_test)\n",
    "    \n",
    "    preds_train = (preds_train_unet + preds_train_linknet)/2\n",
    "    preds_val = (preds_val_unet + preds_val_linknet)/2\n",
    "    preds_test = (preds_test_unet + preds_test_linknet)/2\n",
    "    \n",
    "\n",
    "    preds_train_t = (preds_train > 0.5).astype(np.uint8)\n",
    "    preds_val_t = (preds_val > 0.5).astype(np.uint8)\n",
    "    preds_test_t = (preds_test > 0.5).astype(np.uint8)\n",
    "\n",
    "    # Create list of upsampled test masks\n",
    "    preds_test_upsampled = []\n",
    "    for i in range(len(preds_test)):\n",
    "        preds_test_upsampled.append(resize(np.squeeze(preds_test[i]),(sizes_test[i][0], sizes_test[i][1]), \n",
    "                                       mode='constant', preserve_range=True))\n",
    "    \n",
    "    \n",
    "    # Checking the predictions on training samples.\n",
    "    ix = random.randint(0, len(preds_train_t))\n",
    "    imshow(X_train[ix])\n",
    "    plt.show()\n",
    "    imshow(np.squeeze(Y_train[ix]))\n",
    "    plt.show()\n",
    "    imshow(np.squeeze(preds_train_t[ix]))\n",
    "    plt.show()\n",
    "\n",
    "\n",
    "    # Checking the predictions on validation samples.\n",
    "    ix = random.randint(0, len(preds_val_t))\n",
    "    imshow(X_train[int(X_train.shape[0]*0.9):][ix])\n",
    "    plt.show()\n",
    "    imshow(np.squeeze(Y_train[int(Y_train.shape[0]*0.9):][ix]))\n",
    "    plt.show()\n",
    "    imshow(np.squeeze(preds_val_t[ix]))\n",
    "    plt.show()\n",
    "    \n",
    "\n",
    "def display_results(model1, model2) :\n",
    "    # Predicting on train, val and test using models that we built \n",
    "    unet_model = (load_model(model1, custom_objects={'mean_iou': mean_iou}))\n",
    "    linknet_model = load_model(model2, custom_objects={'mean_iou': mean_iou}, compile = False)\n",
    "    \n",
    "    \n",
    "    preds_train_unet = unet_model.predict(X_train[:int(X_train.shape[0]*0.9)])\n",
    "    preds_val_unet = unet_model.predict(X_train[int(X_train.shape[0]*0.9):])\n",
    "    preds_test_unet = unet_model.predict(X_test)\n",
    "    \n",
    "    preds_train_linknet = linknet_model.predict(X_train[:int(X_train.shape[0]*0.9)])\n",
    "    preds_val_linknet = linknet_model.predict(X_train[int(X_train.shape[0]*0.9):])\n",
    "    preds_test_linknet = linknet_model.predict(X_test)\n",
    "    \n",
    "    preds_train = (preds_train_unet + preds_train_linknet)/2\n",
    "    preds_val = (preds_val_unet + preds_val_linknet)/2\n",
    "    preds_test = (preds_test_unet + preds_test_linknet)/2\n",
    "    \n",
    "\n",
    "    preds_train_t = (preds_train > 0.5).astype(np.uint8)\n",
    "    preds_val_t = (preds_val > 0.5).astype(np.uint8)\n",
    "    preds_test_t = (preds_test > 0.5).astype(np.uint8)\n",
    "\n",
    "    # Create list of upsampled test masks\n",
    "    preds_test_upsampled = []\n",
    "    for i in range(len(preds_test)):\n",
    "        preds_test_upsampled.append(resize(np.squeeze(preds_test[i]),(sizes_test[i][0], sizes_test[i][1]), \n",
    "                                       mode='constant', preserve_range=True))\n",
    "    \n",
    "    \n",
    "    \n",
    "    print('Results for Ensembling of '+model1+model2+' models \\n\\n')\n",
    "    iou = []\n",
    "    for i in range(0,603):\n",
    "        iou.append(iou_metric(np.squeeze(Y_train[i]), np.squeeze(preds_train_t[i])))\n",
    "    iou = np.asarray(iou)\n",
    "    print('Train Mean Precision Score')\n",
    "    print(iou.mean(),\"\\n\")\n",
    "    \n",
    "    \n",
    "    \n",
    "    iou_val = []\n",
    "    for i in range(0,67):\n",
    "        iou_val.append(iou_metric(np.squeeze(Y_train[i+603]), np.squeeze(preds_val_t[i])))\n",
    "    iou_val = np.asarray(iou_val)\n",
    "    print('Validation Mean Precision Score')\n",
    "    print(iou_val.mean(), \"\\n\")\n",
    "    \n",
    "    \n",
    "    \n",
    "    iou_t = []\n",
    "    for i in range(0,65):\n",
    "        iou_t.append(iou_metric(np.squeeze(Y_test[i]), np.squeeze(preds_test_t[i])))\n",
    "    iou_t = np.asarray(iou_t)\n",
    "    print('Test Mean Precision Score')\n",
    "    print(iou_t.mean(), \"\\n\")\n",
    "    "
   ]
  },
  {
   "cell_type": "code",
   "execution_count": 32,
   "metadata": {
    "scrolled": false
   },
   "outputs": [
    {
     "name": "stderr",
     "output_type": "stream",
     "text": [
      "/N/u/gautham4/.local/lib/python3.6/site-packages/skimage/io/_plugins/matplotlib_plugin.py:51: FutureWarning: Conversion of the second argument of issubdtype from `float` to `np.floating` is deprecated. In future, it will be treated as `np.float64 == np.dtype(float).type`.\n",
      "  out_of_range_float = (np.issubdtype(image.dtype, np.float) and\n"
     ]
    },
    {
     "data": {
      "image/png": "[encoded data removed]",
      "text/plain": [
       "<matplotlib.figure.Figure at 0x7f994ed608d0>"
      ]
     },
     "metadata": {},
     "output_type": "display_data"
    },
    {
     "data": {
      "image/png": "[encoded data removed]",
      "text/plain": [
       "<matplotlib.figure.Figure at 0x7f994cfd2780>"
      ]
     },
     "metadata": {},
     "output_type": "display_data"
    },
    {
     "data": {
      "image/png": "[encoded data removed]",
      "text/plain": [
       "<matplotlib.figure.Figure at 0x7f994cf48358>"
      ]
     },
     "metadata": {},
     "output_type": "display_data"
    },
    {
     "data": {
      "image/png": "[encoded data removed]",
      "text/plain": [
       "<matplotlib.figure.Figure at 0x7f994cf354e0>"
      ]
     },
     "metadata": {},
     "output_type": "display_data"
    },
    {
     "data": {
      "image/png": "[encoded data removed]",
      "text/plain": [
       "<matplotlib.figure.Figure at 0x7f994ceb60b8>"
      ]
     },
     "metadata": {},
     "output_type": "display_data"
    },
    {
     "data": {
      "image/png": "[encoded data removed]",
      "text/plain": [
       "<matplotlib.figure.Figure at 0x7f994cdcc828>"
      ]
     },
     "metadata": {},
     "output_type": "display_data"
    }
   ],
   "source": [
    "display_predicted_images(no_aug_model_Unet,aug_model_Linknet)"
   ]
  },
  {
   "cell_type": "code",
   "execution_count": 43,
   "metadata": {
    "scrolled": true
   },
   "outputs": [
    {
     "name": "stdout",
     "output_type": "stream",
     "text": [
      "Results for Ensembling of U-Net-model-dsbowl2018-1.h5Link-Net-model-dsbowl2018-1.h5 models \n",
      "\n",
      "\n",
      "Train Mean Precision Score\n",
      "0.5497371285196192 \n",
      "\n",
      "Validation Mean Precision Score\n",
      "0.5382780527177562 \n",
      "\n",
      "Test Mean Precision Score\n",
      "0.2309575537991282 \n",
      "\n"
     ]
    }
   ],
   "source": [
    "display_results(no_aug_model_Unet,no_aug_model_Linknet)"
   ]
  },
  {
   "cell_type": "code",
   "execution_count": 44,
   "metadata": {
    "scrolled": true
   },
   "outputs": [
    {
     "name": "stdout",
     "output_type": "stream",
     "text": [
      "Results for Ensembling of U-Net-with-data-augmentation-model-dsbowl2018-1.h5Link-Net-with-data-augmentation-model-dsbowl2018-1.h5 models \n",
      "\n",
      "\n",
      "Train Mean Precision Score\n",
      "0.5497371285196192 \n",
      "\n",
      "Validation Mean Precision Score\n",
      "0.5382780527177562 \n",
      "\n",
      "Test Mean Precision Score\n",
      "0.2309575537991282 \n",
      "\n"
     ]
    }
   ],
   "source": [
    "display_results(aug_model_Unet,aug_model_Linknet)"
   ]
  },
  {
   "cell_type": "code",
   "execution_count": null,
   "metadata": {},
   "outputs": [],
   "source": []
  }
 ],
 "metadata": {
  "kernelspec": {
   "display_name": "Python 3",
   "language": "python",
   "name": "python3"
  },
  "language_info": {
   "codemirror_mode": {
    "name": "ipython",
    "version": 3
   },
   "file_extension": ".py",
   "mimetype": "text/x-python",
   "name": "python",
   "nbconvert_exporter": "python",
   "pygments_lexer": "ipython3",
   "version": "3.6.4"
  }
 },
 "nbformat": 4,
 "nbformat_minor": 1
}
