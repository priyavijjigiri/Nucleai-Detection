{
 "cells": [
  {
   "cell_type": "code",
   "execution_count": 36,
   "metadata": {},
   "outputs": [],
   "source": [
    "import os\n",
    "os.environ[\"CUDA_DEVICE_ORDER\"]=\"PCI_BUS_ID\"\n",
    "os.environ[\"CUDA_VISIBLE_DEVICES\"]=\"0\""
   ]
  },
  {
   "cell_type": "code",
   "execution_count": 37,
   "metadata": {},
   "outputs": [],
   "source": [
    "#import statements\n",
    "import sys\n",
    "import random\n",
    "import warnings\n",
    "import numpy as np\n",
    "import pandas as pd\n",
    "\n",
    "import tensorflow as tf\n",
    "import matplotlib\n",
    "import matplotlib.pyplot as plt\n",
    "%matplotlib inline\n",
    "\n",
    "from tqdm import tqdm\n",
    "from itertools import chain\n",
    "\n",
    "from skimage.transform import resize\n",
    "from skimage.morphology import label\n",
    "from skimage.io import imread, imshow, imread_collection, concatenate_images\n",
    "\n",
    "from keras import backend as K\n",
    "from keras.layers import Input\n",
    "from keras.preprocessing import image\n",
    "from keras.layers.merge import concatenate\n",
    "from keras.models import Model, load_model\n",
    "from keras.layers.core import Dropout, Lambda\n",
    "from keras.layers.pooling import MaxPooling2D\n",
    "from keras.callbacks import EarlyStopping, ModelCheckpoint\n",
    "from keras.layers.convolutional import Conv2D, Conv2DTranspose\n",
    "\n",
    "seed1 = 42\n",
    "np.random.seed(10)\n",
    "tf.set_random_seed(4422)\n",
    "\n",
    "warnings.filterwarnings('ignore', category=UserWarning, module='skimage')"
   ]
  },
  {
   "cell_type": "code",
   "execution_count": 38,
   "metadata": {},
   "outputs": [],
   "source": [
    "config = tf.ConfigProto()\n",
    "config.gpu_options.allow_growth = True\n",
    "config.gpu_options.per_process_gpu_memory_fraction = 0.33\n",
    "sess = tf.InteractiveSession(config = config)"
   ]
  },
  {
   "cell_type": "code",
   "execution_count": 39,
   "metadata": {},
   "outputs": [],
   "source": [
    "train_path = '/N/u/priyadarshini/project/Nucleaidetection/data/data/stage1_train/'\n",
    "test_path = '/N/u/priyadarshini/project/Nucleaidetection/data/data/stage1_test/'"
   ]
  },
  {
   "cell_type": "markdown",
   "metadata": {
    "_cell_guid": "b2464b8e-77ba-44b1-8c78-06b1e690910d",
    "_uuid": "a3c37b92fa214f1be75ac3630927555ff40674b2"
   },
   "source": [
    "###  1. Data Preprocessing"
   ]
  },
  {
   "cell_type": "code",
   "execution_count": 40,
   "metadata": {},
   "outputs": [],
   "source": [
    "#Getting the ids\n",
    "train_ids = next(os.walk(train_path))[1]\n",
    "test_ids = next(os.walk(test_path))[1]"
   ]
  },
  {
   "cell_type": "code",
   "execution_count": 41,
   "metadata": {},
   "outputs": [],
   "source": [
    "#Loading the Parameters\n",
    "batch_size = 10\n",
    "image_width = 128\n",
    "image_height = 128\n",
    "channels = 3"
   ]
  },
  {
   "cell_type": "code",
   "execution_count": 42,
   "metadata": {},
   "outputs": [
    {
     "name": "stdout",
     "output_type": "stream",
     "text": [
      "Resized the train images and masks.\n"
     ]
    }
   ],
   "source": [
    "#Resizing the images\n",
    "X_train = np.zeros((len(train_ids), image_height, image_width, channels), dtype=np.uint8)\n",
    "Y_train = np.zeros((len(train_ids), image_height, image_width, 1), dtype=np.bool)\n",
    "for i, id_ in enumerate(train_ids):\n",
    "    img = imread(train_path + id_ + '/images/' + id_ + '.png')[:,:,:channels]\n",
    "    X_train[i] = resize(img, (image_height, image_width), mode='constant', preserve_range=True)\n",
    "    combined_mask = np.zeros((image_height, image_width, 1), dtype=np.bool)\n",
    "    for file in next(os.walk(train_path + id_ + '/masks/'))[2]:\n",
    "        mask = imread(train_path + id_  + '/masks/' + file)\n",
    "        mask = np.expand_dims(resize(mask, (image_height, image_width), mode='constant', \n",
    "                                      preserve_range=True), axis=-1)\n",
    "        combined_mask = np.maximum(combined_mask, mask)\n",
    "    Y_train[i] = combined_mask\n",
    "print('Resized the train images and masks.')"
   ]
  },
  {
   "cell_type": "code",
   "execution_count": 43,
   "metadata": {},
   "outputs": [
    {
     "name": "stdout",
     "output_type": "stream",
     "text": [
      "Resized the test images\n"
     ]
    }
   ],
   "source": [
    "X_test = np.zeros((len(test_ids), image_height, image_width, channels), dtype=np.uint8)\n",
    "sizes_test = []\n",
    "for i, id_ in enumerate(test_ids):\n",
    "    img = imread(test_path + id_ + '/images/' + id_ + '.png')[:,:,:channels]\n",
    "    sizes_test.append([img.shape[0], img.shape[1]])\n",
    "    X_test[i] = resize(img, (image_height, image_width), mode='constant', preserve_range=True)\n",
    "\n",
    "print('Resized the test images')"
   ]
  },
  {
   "cell_type": "code",
   "execution_count": 44,
   "metadata": {},
   "outputs": [],
   "source": [
    "import numpy as np \n",
    "\n",
    "def RLE_encoding_to_mask(rle_line,height,width):\n",
    "  rows,cols = height,width\n",
    "  rleNumbers = [int(numstring) for numstring in rle_line.split(' ')]\n",
    "  rle_p = np.array(rleNumbers).reshape(-1,2)\n",
    "  img = np.zeros(rows*cols,dtype=np.uint8)\n",
    "  for index,length in rle_p:\n",
    "    index -= 1\n",
    "    img[index:index+length] = 255\n",
    "  img = img.reshape(cols,rows)\n",
    "  img = img.T\n",
    "  return img"
   ]
  },
  {
   "cell_type": "code",
   "execution_count": 50,
   "metadata": {},
   "outputs": [
    {
     "name": "stdout",
     "output_type": "stream",
     "text": [
      "Creating Test masks...\n",
      "Done\n"
     ]
    }
   ],
   "source": [
    "test_df = pd.read_csv('/N/u/priyadarshini/project/Nucleaidetection/data/data/stage1_solution.csv')\n",
    "\n",
    "print('Creating Test masks...')\n",
    "\n",
    "Y_test = np.zeros((len(test_ids), image_height, image_width, 1), dtype=np.bool)\n",
    "for n, id_ in enumerate(test_ids):\n",
    "   mask = np.zeros((image_height, image_width, 1), dtype=np.bool)\n",
    "   df = test_df.loc[test_df['ImageId'] == id_]\n",
    "   \n",
    "   for i in range (0,(df).shape[0]) :\n",
    "         mask_ = RLE_encoding_to_mask(df.iloc[i,1],256,256)\n",
    "         mask_ = np.expand_dims(resize(mask_, (image_height, image_width), mode='constant', \n",
    "                                      preserve_range=True), axis=-1)\n",
    "         mask = np.maximum(mask, mask_)\n",
    "   Y_test[n] = mask\n",
    "\n",
    "\n",
    "print('Done')\n",
    "\n"
   ]
  },
  {
   "cell_type": "markdown",
   "metadata": {
    "_cell_guid": "5f70481c-7b7b-4f60-8d11-e0e36030697c",
    "_uuid": "1593b0eb0503758424ce1ec5ded8d59557d4d1df"
   },
   "source": [
    "###  2. Data Augmentation"
   ]
  },
  {
   "cell_type": "code",
   "execution_count": 46,
   "metadata": {
    "_cell_guid": "0e78cfea-5120-4c18-80a0-fd09964e024d",
    "_uuid": "7448169cf1949461f30735a89f96b4c4003dccea"
   },
   "outputs": [],
   "source": [
    "# Images and Mask generators\n",
    "image_datagen = image.ImageDataGenerator(shear_range=0.5, rotation_range=50, zoom_range=0.2, width_shift_range=0.2, height_shift_range=0.2, fill_mode='reflect')\n",
    "mask_datagen = image.ImageDataGenerator(shear_range=0.5, rotation_range=50, zoom_range=0.2, width_shift_range=0.2, height_shift_range=0.2, fill_mode='reflect')\n",
    "\n",
    "image_datagen_val = image.ImageDataGenerator()\n",
    "mask_datagen_val = image.ImageDataGenerator()\n",
    "\n",
    "image_datagen.fit(X_train[:int(X_train.shape[0]*0.9)], augment=True, seed=56)\n",
    "mask_datagen.fit(Y_train[:int(Y_train.shape[0]*0.9)], augment=True, seed=56)\n",
    "\n",
    "image_datagen_val.fit(X_train[int(X_train.shape[0]*0.9):], augment=True, seed=56)\n",
    "mask_datagen_val.fit(Y_train[int(Y_train.shape[0]*0.9):], augment=True, seed=56)\n",
    "\n",
    "x=image_datagen.flow(X_train[:int(X_train.shape[0]*0.9)],batch_size=batch_size,shuffle=True, seed=56)\n",
    "y=mask_datagen.flow(Y_train[:int(Y_train.shape[0]*0.9)],batch_size=batch_size,shuffle=True, seed=56)\n",
    "\n",
    "x_val=image_datagen_val.flow(X_train[int(X_train.shape[0]*0.9):],batch_size=batch_size,shuffle=True, seed=56)\n",
    "y_val=mask_datagen_val.flow(Y_train[int(Y_train.shape[0]*0.9):],batch_size=batch_size,shuffle=True, seed=56)\n",
    "\n",
    "train_generator = zip(x, y)\n",
    "val_generator = zip(x_val, y_val)"
   ]
  },
  {
   "cell_type": "code",
   "execution_count": 47,
   "metadata": {},
   "outputs": [],
   "source": [
    "def iou_metric(true, pred, print_table=False):\n",
    "    true = label(true > 0.5)\n",
    "    pred = label(pred > 0.5)\n",
    "    i = np.histogram2d(true.flatten(), pred.flatten(), bins=(len(np.unique(true)), len(np.unique(pred))))[0]#intersection of true and prediction\n",
    "    ta = np.histogram(true, bins = len(np.unique(true)))[0] #Area of true label\n",
    "    pa = np.histogram(pred, bins = len(np.unique(pred)))[0] #Area of predicted label\n",
    "    u = np.expand_dims(ta, -1) + np.expand_dims(pa, 0) - i  # true+pred-intersection\n",
    "    i = i[1:,1:]\n",
    "    u = u[1:,1:]\n",
    "    u[u == 0] = 1e-9\n",
    "    precisions = []   \n",
    "    for threshold in np.arange(0.5, 1.0, 0.05):\n",
    "        tp = np.sum(np.sum(((i/u) > threshold), axis=1) == 1) #true positive\n",
    "        fp = np.sum(np.sum(((i/u) > threshold), axis=0) == 0) #false positive\n",
    "        fn = np.sum(np.sum(((i/u) > threshold), axis=1) == 0) #false negative\n",
    "        precisions.append(tp / (tp + fp + fn) if (tp + fp + fn) > 0 else 0)            \n",
    "    return np.mean(precisions)\n",
    "\n",
    "def iou_metric_batch(true, pred):\n",
    "    metric = [iou_metric(true[i], pred[i]) for i in range(true.shape[0])]\n",
    "    return np.array(np.mean(metric), dtype=np.float32)\n",
    "\n",
    "def mean_iou(true, pred):\n",
    "    return tf.py_func(iou_metric_batch, [true, pred], tf.float32)"
   ]
  },
  {
   "cell_type": "markdown",
   "metadata": {},
   "source": [
    "###  3. U-net"
   ]
  },
  {
   "cell_type": "code",
   "execution_count": 48,
   "metadata": {
    "_cell_guid": "0f97a2d9-a9a0-4399-bbca-198cdda087b6",
    "_uuid": "ab499cefbbe8dc514c6347fe203d87eb7974adf0",
    "scrolled": true
   },
   "outputs": [
    {
     "name": "stdout",
     "output_type": "stream",
     "text": [
      "__________________________________________________________________________________________________\n",
      "Layer (type)                    Output Shape         Param #     Connected to                     \n",
      "==================================================================================================\n",
      "input_3 (InputLayer)            (None, 128, 128, 3)  0                                            \n",
      "__________________________________________________________________________________________________\n",
      "lambda_3 (Lambda)               (None, 128, 128, 3)  0           input_3[0][0]                    \n",
      "__________________________________________________________________________________________________\n",
      "conv2d_39 (Conv2D)              (None, 128, 128, 16) 448         lambda_3[0][0]                   \n",
      "__________________________________________________________________________________________________\n",
      "dropout_19 (Dropout)            (None, 128, 128, 16) 0           conv2d_39[0][0]                  \n",
      "__________________________________________________________________________________________________\n",
      "conv2d_40 (Conv2D)              (None, 128, 128, 16) 2320        dropout_19[0][0]                 \n",
      "__________________________________________________________________________________________________\n",
      "max_pooling2d_9 (MaxPooling2D)  (None, 64, 64, 16)   0           conv2d_40[0][0]                  \n",
      "__________________________________________________________________________________________________\n",
      "conv2d_41 (Conv2D)              (None, 64, 64, 32)   4640        max_pooling2d_9[0][0]            \n",
      "__________________________________________________________________________________________________\n",
      "dropout_20 (Dropout)            (None, 64, 64, 32)   0           conv2d_41[0][0]                  \n",
      "__________________________________________________________________________________________________\n",
      "conv2d_42 (Conv2D)              (None, 64, 64, 32)   9248        dropout_20[0][0]                 \n",
      "__________________________________________________________________________________________________\n",
      "max_pooling2d_10 (MaxPooling2D) (None, 32, 32, 32)   0           conv2d_42[0][0]                  \n",
      "__________________________________________________________________________________________________\n",
      "conv2d_43 (Conv2D)              (None, 32, 32, 64)   18496       max_pooling2d_10[0][0]           \n",
      "__________________________________________________________________________________________________\n",
      "dropout_21 (Dropout)            (None, 32, 32, 64)   0           conv2d_43[0][0]                  \n",
      "__________________________________________________________________________________________________\n",
      "conv2d_44 (Conv2D)              (None, 32, 32, 64)   36928       dropout_21[0][0]                 \n",
      "__________________________________________________________________________________________________\n",
      "max_pooling2d_11 (MaxPooling2D) (None, 16, 16, 64)   0           conv2d_44[0][0]                  \n",
      "__________________________________________________________________________________________________\n",
      "conv2d_45 (Conv2D)              (None, 16, 16, 128)  73856       max_pooling2d_11[0][0]           \n",
      "__________________________________________________________________________________________________\n",
      "dropout_22 (Dropout)            (None, 16, 16, 128)  0           conv2d_45[0][0]                  \n",
      "__________________________________________________________________________________________________\n",
      "conv2d_46 (Conv2D)              (None, 16, 16, 128)  147584      dropout_22[0][0]                 \n",
      "__________________________________________________________________________________________________\n",
      "max_pooling2d_12 (MaxPooling2D) (None, 8, 8, 128)    0           conv2d_46[0][0]                  \n",
      "__________________________________________________________________________________________________\n",
      "conv2d_47 (Conv2D)              (None, 8, 8, 256)    295168      max_pooling2d_12[0][0]           \n",
      "__________________________________________________________________________________________________\n",
      "dropout_23 (Dropout)            (None, 8, 8, 256)    0           conv2d_47[0][0]                  \n",
      "__________________________________________________________________________________________________\n",
      "conv2d_48 (Conv2D)              (None, 8, 8, 256)    590080      dropout_23[0][0]                 \n",
      "__________________________________________________________________________________________________\n",
      "conv2d_transpose_9 (Conv2DTrans (None, 16, 16, 128)  131200      conv2d_48[0][0]                  \n",
      "__________________________________________________________________________________________________\n",
      "concatenate_9 (Concatenate)     (None, 16, 16, 256)  0           conv2d_transpose_9[0][0]         \n",
      "                                                                 conv2d_46[0][0]                  \n",
      "__________________________________________________________________________________________________\n",
      "conv2d_49 (Conv2D)              (None, 16, 16, 128)  295040      concatenate_9[0][0]              \n",
      "__________________________________________________________________________________________________\n",
      "dropout_24 (Dropout)            (None, 16, 16, 128)  0           conv2d_49[0][0]                  \n",
      "__________________________________________________________________________________________________\n",
      "conv2d_50 (Conv2D)              (None, 16, 16, 128)  147584      dropout_24[0][0]                 \n",
      "__________________________________________________________________________________________________\n",
      "conv2d_transpose_10 (Conv2DTran (None, 32, 32, 64)   32832       conv2d_50[0][0]                  \n",
      "__________________________________________________________________________________________________\n",
      "concatenate_10 (Concatenate)    (None, 32, 32, 128)  0           conv2d_transpose_10[0][0]        \n",
      "                                                                 conv2d_44[0][0]                  \n",
      "__________________________________________________________________________________________________\n",
      "conv2d_51 (Conv2D)              (None, 32, 32, 64)   73792       concatenate_10[0][0]             \n",
      "__________________________________________________________________________________________________\n",
      "dropout_25 (Dropout)            (None, 32, 32, 64)   0           conv2d_51[0][0]                  \n",
      "__________________________________________________________________________________________________\n",
      "conv2d_52 (Conv2D)              (None, 32, 32, 64)   36928       dropout_25[0][0]                 \n",
      "__________________________________________________________________________________________________\n",
      "conv2d_transpose_11 (Conv2DTran (None, 64, 64, 32)   8224        conv2d_52[0][0]                  \n",
      "__________________________________________________________________________________________________\n",
      "concatenate_11 (Concatenate)    (None, 64, 64, 64)   0           conv2d_transpose_11[0][0]        \n",
      "                                                                 conv2d_42[0][0]                  \n",
      "__________________________________________________________________________________________________\n",
      "conv2d_53 (Conv2D)              (None, 64, 64, 32)   18464       concatenate_11[0][0]             \n",
      "__________________________________________________________________________________________________\n",
      "dropout_26 (Dropout)            (None, 64, 64, 32)   0           conv2d_53[0][0]                  \n",
      "__________________________________________________________________________________________________\n",
      "conv2d_54 (Conv2D)              (None, 64, 64, 32)   9248        dropout_26[0][0]                 \n",
      "__________________________________________________________________________________________________\n",
      "conv2d_transpose_12 (Conv2DTran (None, 128, 128, 16) 2064        conv2d_54[0][0]                  \n",
      "__________________________________________________________________________________________________\n",
      "concatenate_12 (Concatenate)    (None, 128, 128, 32) 0           conv2d_transpose_12[0][0]        \n",
      "                                                                 conv2d_40[0][0]                  \n",
      "__________________________________________________________________________________________________\n",
      "conv2d_55 (Conv2D)              (None, 128, 128, 16) 4624        concatenate_12[0][0]             \n",
      "__________________________________________________________________________________________________\n",
      "dropout_27 (Dropout)            (None, 128, 128, 16) 0           conv2d_55[0][0]                  \n",
      "__________________________________________________________________________________________________\n",
      "conv2d_56 (Conv2D)              (None, 128, 128, 16) 2320        dropout_27[0][0]                 \n",
      "__________________________________________________________________________________________________\n",
      "conv2d_57 (Conv2D)              (None, 128, 128, 1)  17          conv2d_56[0][0]                  \n",
      "==================================================================================================\n",
      "Total params: 1,941,105\n",
      "Trainable params: 1,941,105\n",
      "Non-trainable params: 0\n",
      "__________________________________________________________________________________________________\n"
     ]
    }
   ],
   "source": [
    "#Building the model\n",
    "inputs = Input((image_height, image_width, channels))\n",
    "s = Lambda(lambda x: x / 255) (inputs)\n",
    "\n",
    "c1 = Conv2D(16, (3, 3), activation='elu', kernel_initializer='he_normal', padding='same') (s)\n",
    "c1 = Dropout(0.1) (c1)\n",
    "c1 = Conv2D(16, (3, 3), activation='elu', kernel_initializer='he_normal', padding='same') (c1)\n",
    "p1 = MaxPooling2D((2, 2)) (c1)\n",
    "\n",
    "c2 = Conv2D(32, (3, 3), activation='elu', kernel_initializer='he_normal', padding='same') (p1)\n",
    "c2 = Dropout(0.1) (c2)\n",
    "c2 = Conv2D(32, (3, 3), activation='elu', kernel_initializer='he_normal', padding='same') (c2)\n",
    "p2 = MaxPooling2D((2, 2)) (c2)\n",
    "\n",
    "c3 = Conv2D(64, (3, 3), activation='elu', kernel_initializer='he_normal', padding='same') (p2)\n",
    "c3 = Dropout(0.2) (c3)\n",
    "c3 = Conv2D(64, (3, 3), activation='elu', kernel_initializer='he_normal', padding='same') (c3)\n",
    "p3 = MaxPooling2D((2, 2)) (c3)\n",
    "\n",
    "c4 = Conv2D(128, (3, 3), activation='elu', kernel_initializer='he_normal', padding='same') (p3)\n",
    "c4 = Dropout(0.2) (c4)\n",
    "c4 = Conv2D(128, (3, 3), activation='elu', kernel_initializer='he_normal', padding='same') (c4)\n",
    "p4 = MaxPooling2D(pool_size=(2, 2)) (c4)\n",
    "\n",
    "c5 = Conv2D(256, (3, 3), activation='elu', kernel_initializer='he_normal', padding='same') (p4)\n",
    "c5 = Dropout(0.3) (c5)\n",
    "c5 = Conv2D(256, (3, 3), activation='elu', kernel_initializer='he_normal', padding='same') (c5)\n",
    "\n",
    "u6 = Conv2DTranspose(128, (2, 2), strides=(2, 2), padding='same') (c5)\n",
    "u6 = concatenate([u6, c4])\n",
    "c6 = Conv2D(128, (3, 3), activation='elu', kernel_initializer='he_normal', padding='same') (u6)\n",
    "c6 = Dropout(0.2) (c6)\n",
    "c6 = Conv2D(128, (3, 3), activation='elu', kernel_initializer='he_normal', padding='same') (c6)\n",
    "\n",
    "u7 = Conv2DTranspose(64, (2, 2), strides=(2, 2), padding='same') (c6)\n",
    "u7 = concatenate([u7, c3])\n",
    "c7 = Conv2D(64, (3, 3), activation='elu', kernel_initializer='he_normal', padding='same') (u7)\n",
    "c7 = Dropout(0.2) (c7)\n",
    "c7 = Conv2D(64, (3, 3), activation='elu', kernel_initializer='he_normal', padding='same') (c7)\n",
    "\n",
    "u8 = Conv2DTranspose(32, (2, 2), strides=(2, 2), padding='same') (c7)\n",
    "u8 = concatenate([u8, c2])\n",
    "c8 = Conv2D(32, (3, 3), activation='elu', kernel_initializer='he_normal', padding='same') (u8)\n",
    "c8 = Dropout(0.1) (c8)\n",
    "c8 = Conv2D(32, (3, 3), activation='elu', kernel_initializer='he_normal', padding='same') (c8)\n",
    "\n",
    "u9 = Conv2DTranspose(16, (2, 2), strides=(2, 2), padding='same') (c8)\n",
    "u9 = concatenate([u9, c1], axis=3)\n",
    "c9 = Conv2D(16, (3, 3), activation='elu', kernel_initializer='he_normal', padding='same') (u9)\n",
    "c9 = Dropout(0.1) (c9)\n",
    "c9 = Conv2D(16, (3, 3), activation='elu', kernel_initializer='he_normal', padding='same') (c9)\n",
    "\n",
    "outputs = Conv2D(1, (1, 1), activation='sigmoid') (c9)\n",
    "\n",
    "model = Model(inputs=[inputs], outputs=[outputs])\n",
    "model.compile(optimizer='adam', loss='binary_crossentropy', metrics=[mean_iou])\n",
    "\n",
    "model_DA = Model(inputs=[inputs], outputs=[outputs])\n",
    "model_DA.compile(optimizer='adam', loss='binary_crossentropy', metrics=[mean_iou])\n",
    "model_DA.summary()"
   ]
  },
  {
   "cell_type": "code",
   "execution_count": 49,
   "metadata": {
    "scrolled": false
   },
   "outputs": [
    {
     "name": "stdout",
     "output_type": "stream",
     "text": [
      "Train on 603 samples, validate on 67 samples\n",
      "Epoch 1/100\n",
      "603/603 [==============================] - 8s 14ms/step - loss: 0.3456 - mean_iou: 0.0562 - val_loss: 0.1709 - val_mean_iou: 0.1379\n",
      "\n",
      "Epoch 00001: val_loss improved from inf to 0.17089, saving model to U-Net-model-dsbowl2018-1.h5\n",
      "Epoch 2/100\n",
      "603/603 [==============================] - 3s 6ms/step - loss: 0.1546 - mean_iou: 0.2410 - val_loss: 0.2199 - val_mean_iou: 0.2397\n",
      "\n",
      "Epoch 00002: val_loss did not improve\n",
      "Epoch 3/100\n",
      "603/603 [==============================] - 3s 6ms/step - loss: 0.1287 - mean_iou: 0.3333 - val_loss: 0.1078 - val_mean_iou: 0.3668\n",
      "\n",
      "Epoch 00003: val_loss improved from 0.17089 to 0.10776, saving model to U-Net-model-dsbowl2018-1.h5\n",
      "Epoch 4/100\n",
      "603/603 [==============================] - 3s 6ms/step - loss: 0.1090 - mean_iou: 0.3902 - val_loss: 0.1147 - val_mean_iou: 0.4134\n",
      "\n",
      "Epoch 00004: val_loss did not improve\n",
      "Epoch 5/100\n",
      "603/603 [==============================] - 3s 6ms/step - loss: 0.1066 - mean_iou: 0.4078 - val_loss: 0.0935 - val_mean_iou: 0.4424\n",
      "\n",
      "Epoch 00005: val_loss improved from 0.10776 to 0.09352, saving model to U-Net-model-dsbowl2018-1.h5\n",
      "Epoch 6/100\n",
      "603/603 [==============================] - 3s 6ms/step - loss: 0.1003 - mean_iou: 0.4355 - val_loss: 0.0875 - val_mean_iou: 0.4935\n",
      "\n",
      "Epoch 00006: val_loss improved from 0.09352 to 0.08752, saving model to U-Net-model-dsbowl2018-1.h5\n",
      "Epoch 7/100\n",
      "603/603 [==============================] - 3s 6ms/step - loss: 0.0948 - mean_iou: 0.4519 - val_loss: 0.0860 - val_mean_iou: 0.4602\n",
      "\n",
      "Epoch 00007: val_loss improved from 0.08752 to 0.08597, saving model to U-Net-model-dsbowl2018-1.h5\n",
      "Epoch 8/100\n",
      "603/603 [==============================] - 3s 6ms/step - loss: 0.0925 - mean_iou: 0.4594 - val_loss: 0.0890 - val_mean_iou: 0.4939\n",
      "\n",
      "Epoch 00008: val_loss did not improve\n",
      "Epoch 9/100\n",
      "603/603 [==============================] - 3s 6ms/step - loss: 0.0947 - mean_iou: 0.4604 - val_loss: 0.0842 - val_mean_iou: 0.4636\n",
      "\n",
      "Epoch 00009: val_loss improved from 0.08597 to 0.08419, saving model to U-Net-model-dsbowl2018-1.h5\n",
      "Epoch 10/100\n",
      "603/603 [==============================] - 3s 6ms/step - loss: 0.0867 - mean_iou: 0.4801 - val_loss: 0.0826 - val_mean_iou: 0.4636\n",
      "\n",
      "Epoch 00010: val_loss improved from 0.08419 to 0.08257, saving model to U-Net-model-dsbowl2018-1.h5\n",
      "Epoch 11/100\n",
      "603/603 [==============================] - 3s 6ms/step - loss: 0.0844 - mean_iou: 0.4803 - val_loss: 0.0755 - val_mean_iou: 0.5057\n",
      "\n",
      "Epoch 00011: val_loss improved from 0.08257 to 0.07554, saving model to U-Net-model-dsbowl2018-1.h5\n",
      "Epoch 12/100\n",
      "603/603 [==============================] - 3s 6ms/step - loss: 0.0814 - mean_iou: 0.5011 - val_loss: 0.0765 - val_mean_iou: 0.5207\n",
      "\n",
      "Epoch 00012: val_loss did not improve\n",
      "Epoch 13/100\n",
      "603/603 [==============================] - 3s 6ms/step - loss: 0.0802 - mean_iou: 0.5052 - val_loss: 0.0745 - val_mean_iou: 0.5257\n",
      "\n",
      "Epoch 00013: val_loss improved from 0.07554 to 0.07447, saving model to U-Net-model-dsbowl2018-1.h5\n",
      "Epoch 14/100\n",
      "603/603 [==============================] - 3s 6ms/step - loss: 0.0794 - mean_iou: 0.5039 - val_loss: 0.0738 - val_mean_iou: 0.5339\n",
      "\n",
      "Epoch 00014: val_loss improved from 0.07447 to 0.07383, saving model to U-Net-model-dsbowl2018-1.h5\n",
      "Epoch 15/100\n",
      "603/603 [==============================] - 3s 6ms/step - loss: 0.0815 - mean_iou: 0.4995 - val_loss: 0.0769 - val_mean_iou: 0.5302\n",
      "\n",
      "Epoch 00015: val_loss did not improve\n",
      "Epoch 16/100\n",
      "603/603 [==============================] - 3s 6ms/step - loss: 0.0778 - mean_iou: 0.5139 - val_loss: 0.0746 - val_mean_iou: 0.5397\n",
      "\n",
      "Epoch 00016: val_loss did not improve\n",
      "Epoch 17/100\n",
      "603/603 [==============================] - 3s 6ms/step - loss: 0.0790 - mean_iou: 0.5157 - val_loss: 0.0719 - val_mean_iou: 0.5421\n",
      "\n",
      "Epoch 00017: val_loss improved from 0.07383 to 0.07194, saving model to U-Net-model-dsbowl2018-1.h5\n",
      "Epoch 18/100\n",
      "603/603 [==============================] - 3s 6ms/step - loss: 0.1088 - mean_iou: 0.4636 - val_loss: 0.1144 - val_mean_iou: 0.4306\n",
      "\n",
      "Epoch 00018: val_loss did not improve\n",
      "Epoch 19/100\n",
      "603/603 [==============================] - 3s 6ms/step - loss: 0.1046 - mean_iou: 0.4476 - val_loss: 0.0974 - val_mean_iou: 0.4572\n",
      "\n",
      "Epoch 00019: val_loss did not improve\n",
      "Epoch 20/100\n",
      "603/603 [==============================] - 3s 6ms/step - loss: 0.0939 - mean_iou: 0.4854 - val_loss: 0.0821 - val_mean_iou: 0.5108\n",
      "\n",
      "Epoch 00020: val_loss did not improve\n",
      "Epoch 21/100\n",
      "603/603 [==============================] - 3s 6ms/step - loss: 0.0897 - mean_iou: 0.4903 - val_loss: 0.0822 - val_mean_iou: 0.5030\n",
      "\n",
      "Epoch 00021: val_loss did not improve\n",
      "Epoch 22/100\n",
      "603/603 [==============================] - 3s 6ms/step - loss: 0.0873 - mean_iou: 0.5033 - val_loss: 0.0819 - val_mean_iou: 0.5105\n",
      "\n",
      "Epoch 00022: val_loss did not improve\n",
      "Epoch 23/100\n",
      "603/603 [==============================] - 3s 6ms/step - loss: 0.0843 - mean_iou: 0.5085 - val_loss: 0.0837 - val_mean_iou: 0.5039\n",
      "\n",
      "Epoch 00023: val_loss did not improve\n",
      "Epoch 24/100\n",
      "603/603 [==============================] - 3s 6ms/step - loss: 0.0818 - mean_iou: 0.5148 - val_loss: 0.0785 - val_mean_iou: 0.5429\n",
      "\n",
      "Epoch 00024: val_loss did not improve\n",
      "Epoch 25/100\n",
      "603/603 [==============================] - 3s 6ms/step - loss: 0.0857 - mean_iou: 0.5073 - val_loss: 0.0916 - val_mean_iou: 0.5258\n",
      "\n",
      "Epoch 00025: val_loss did not improve\n",
      "Epoch 26/100\n",
      "603/603 [==============================] - 3s 6ms/step - loss: 0.0845 - mean_iou: 0.5128 - val_loss: 0.0773 - val_mean_iou: 0.5104\n",
      "\n",
      "Epoch 00026: val_loss did not improve\n",
      "Epoch 27/100\n",
      "603/603 [==============================] - 3s 6ms/step - loss: 0.0826 - mean_iou: 0.5131 - val_loss: 0.0727 - val_mean_iou: 0.5502\n",
      "\n",
      "Epoch 00027: val_loss did not improve\n",
      "Epoch 00027: early stopping\n"
     ]
    }
   ],
   "source": [
    "# Fitting model without augmented Data\n",
    "earlystopper = EarlyStopping(patience=10, verbose=1)\n",
    "checkpointer = ModelCheckpoint('U-Net-model-dsbowl2018-1.h5', verbose=1, save_best_only=True)\n",
    "results = model.fit(X_train, Y_train, validation_split=0.1, batch_size=15, epochs=100, \n",
    "                    callbacks=[earlystopper, checkpointer])"
   ]
  },
  {
   "cell_type": "code",
   "execution_count": 55,
   "metadata": {
    "_cell_guid": "2cc45263-7607-4d9d-b0e0-88b3135ba60b",
    "_uuid": "440055f1d1feb25fe08f942d15257e2454d2022b"
   },
   "outputs": [
    {
     "name": "stdout",
     "output_type": "stream",
     "text": [
      "Epoch 1/50\n",
      "250/250 [==============================] - 23s 91ms/step - loss: 0.1047 - mean_iou: 0.4366 - val_loss: 0.0837 - val_mean_iou: 0.4952\n",
      "\n",
      "Epoch 00001: val_loss improved from inf to 0.08375, saving model to U-Net-with-data-augmentation-model-dsbowl2018-1.h5\n",
      "Epoch 2/50\n",
      "250/250 [==============================] - 17s 66ms/step - loss: 0.1003 - mean_iou: 0.4481 - val_loss: 0.0731 - val_mean_iou: 0.5404\n",
      "\n",
      "Epoch 00002: val_loss improved from 0.08375 to 0.07309, saving model to U-Net-with-data-augmentation-model-dsbowl2018-1.h5\n",
      "Epoch 3/50\n",
      "250/250 [==============================] - 17s 66ms/step - loss: 0.0928 - mean_iou: 0.4635 - val_loss: 0.0675 - val_mean_iou: 0.5207\n",
      "\n",
      "Epoch 00003: val_loss improved from 0.07309 to 0.06749, saving model to U-Net-with-data-augmentation-model-dsbowl2018-1.h5\n",
      "Epoch 4/50\n",
      "250/250 [==============================] - 17s 67ms/step - loss: 0.0888 - mean_iou: 0.4629 - val_loss: 0.0735 - val_mean_iou: 0.5452\n",
      "\n",
      "Epoch 00004: val_loss did not improve\n",
      "Epoch 5/50\n",
      "250/250 [==============================] - 16s 66ms/step - loss: 0.0925 - mean_iou: 0.4685 - val_loss: 0.0657 - val_mean_iou: 0.5637\n",
      "\n",
      "Epoch 00005: val_loss improved from 0.06749 to 0.06566, saving model to U-Net-with-data-augmentation-model-dsbowl2018-1.h5\n",
      "Epoch 6/50\n",
      "250/250 [==============================] - 17s 67ms/step - loss: 0.0894 - mean_iou: 0.4657 - val_loss: 0.0707 - val_mean_iou: 0.5433\n",
      "\n",
      "Epoch 00006: val_loss did not improve\n",
      "Epoch 7/50\n",
      "250/250 [==============================] - 17s 66ms/step - loss: 0.0921 - mean_iou: 0.4685 - val_loss: 0.0697 - val_mean_iou: 0.5566\n",
      "\n",
      "Epoch 00007: val_loss did not improve\n",
      "Epoch 8/50\n",
      "250/250 [==============================] - 17s 66ms/step - loss: 0.0861 - mean_iou: 0.4768 - val_loss: 0.0672 - val_mean_iou: 0.5525\n",
      "\n",
      "Epoch 00008: val_loss did not improve\n",
      "Epoch 9/50\n",
      "250/250 [==============================] - 17s 66ms/step - loss: 0.0843 - mean_iou: 0.4779 - val_loss: 0.0664 - val_mean_iou: 0.5475\n",
      "\n",
      "Epoch 00009: val_loss did not improve\n",
      "Epoch 10/50\n",
      "250/250 [==============================] - 16s 66ms/step - loss: 0.0872 - mean_iou: 0.4732 - val_loss: 0.0637 - val_mean_iou: 0.5823\n",
      "\n",
      "Epoch 00010: val_loss improved from 0.06566 to 0.06372, saving model to U-Net-with-data-augmentation-model-dsbowl2018-1.h5\n",
      "Epoch 11/50\n",
      "250/250 [==============================] - 17s 67ms/step - loss: 0.0845 - mean_iou: 0.4816 - val_loss: 0.0703 - val_mean_iou: 0.5520\n",
      "\n",
      "Epoch 00011: val_loss did not improve\n",
      "Epoch 12/50\n",
      "250/250 [==============================] - 17s 66ms/step - loss: 0.0998 - mean_iou: 0.4579 - val_loss: 0.0692 - val_mean_iou: 0.5323\n",
      "\n",
      "Epoch 00012: val_loss did not improve\n",
      "Epoch 13/50\n",
      "250/250 [==============================] - 17s 67ms/step - loss: 0.0893 - mean_iou: 0.4793 - val_loss: 0.0626 - val_mean_iou: 0.5963\n",
      "\n",
      "Epoch 00013: val_loss improved from 0.06372 to 0.06255, saving model to U-Net-with-data-augmentation-model-dsbowl2018-1.h5\n",
      "Epoch 14/50\n",
      "250/250 [==============================] - 16s 66ms/step - loss: 0.0880 - mean_iou: 0.4755 - val_loss: 0.0692 - val_mean_iou: 0.5313\n",
      "\n",
      "Epoch 00014: val_loss did not improve\n",
      "Epoch 15/50\n",
      "250/250 [==============================] - 16s 65ms/step - loss: 0.0869 - mean_iou: 0.4834 - val_loss: 0.0618 - val_mean_iou: 0.5675\n",
      "\n",
      "Epoch 00015: val_loss improved from 0.06255 to 0.06182, saving model to U-Net-with-data-augmentation-model-dsbowl2018-1.h5\n",
      "Epoch 16/50\n",
      "250/250 [==============================] - 16s 66ms/step - loss: 0.0836 - mean_iou: 0.4833 - val_loss: 0.0648 - val_mean_iou: 0.5696\n",
      "\n",
      "Epoch 00016: val_loss did not improve\n",
      "Epoch 17/50\n",
      "250/250 [==============================] - 16s 65ms/step - loss: 0.0809 - mean_iou: 0.4918 - val_loss: 0.0695 - val_mean_iou: 0.5572\n",
      "\n",
      "Epoch 00017: val_loss did not improve\n",
      "Epoch 18/50\n",
      "250/250 [==============================] - 16s 66ms/step - loss: 0.0820 - mean_iou: 0.4902 - val_loss: 0.0642 - val_mean_iou: 0.5513\n",
      "\n",
      "Epoch 00018: val_loss did not improve\n",
      "Epoch 19/50\n",
      "250/250 [==============================] - 17s 66ms/step - loss: 0.0794 - mean_iou: 0.4996 - val_loss: 0.0620 - val_mean_iou: 0.5583\n",
      "\n",
      "Epoch 00019: val_loss did not improve\n",
      "Epoch 20/50\n",
      "250/250 [==============================] - 17s 68ms/step - loss: 0.0800 - mean_iou: 0.4957 - val_loss: 0.0680 - val_mean_iou: 0.5308\n",
      "\n",
      "Epoch 00020: val_loss did not improve\n",
      "Epoch 00020: early stopping\n"
     ]
    }
   ],
   "source": [
    "# Fitting the model with Augmented Data\n",
    "earlystopper_DA = EarlyStopping(patience=5, verbose=1)\n",
    "checkpointer_DA = ModelCheckpoint('U-Net-with-data-augmentation-model-dsbowl2018-1.h5', verbose=1, save_best_only=True)\n",
    "results_DA = model_DA.fit_generator(train_generator, validation_data=val_generator, validation_steps=10, steps_per_epoch=250,\n",
    "                              epochs=50, callbacks=[earlystopper_DA, checkpointer_DA])"
   ]
  },
  {
   "cell_type": "code",
   "execution_count": 34,
   "metadata": {},
   "outputs": [],
   "source": [
    "no_aug_model = 'U-Net-model-dsbowl2018-1.h5'\n",
    "aug_model = 'U-Net-with-data-augmentation-model-dsbowl2018-1.h5'"
   ]
  },
  {
   "cell_type": "code",
   "execution_count": 58,
   "metadata": {},
   "outputs": [],
   "source": [
    "def display_predicted_images(model_name):    \n",
    "\n",
    "    # Predicting on train, val and test using models that we built \n",
    "    best_model = load_model(model_name, custom_objects={'mean_iou': mean_iou})\n",
    "    preds_train = best_model.predict(X_train[:int(X_train.shape[0]*0.9)], verbose=1)\n",
    "    preds_val = best_model.predict(X_train[int(X_train.shape[0]*0.9):], verbose=1)\n",
    "    preds_test = best_model.predict(X_test, verbose=1)\n",
    "\n",
    "    preds_train_t = (preds_train > 0.5).astype(np.uint8)\n",
    "    preds_val_t = (preds_val > 0.5).astype(np.uint8)\n",
    "    preds_test_t = (preds_test > 0.5).astype(np.uint8)\n",
    "\n",
    "    # Create list of upsampled test masks\n",
    "    preds_test_upsampled = []\n",
    "    for i in range(len(preds_test)):\n",
    "        preds_test_upsampled.append(resize(np.squeeze(preds_test[i]),(sizes_test[i][0], sizes_test[i][1]), \n",
    "                                       mode='constant', preserve_range=True))\n",
    "    \n",
    "    \n",
    "    # Checking the predictions on training samples.\n",
    "    ix = random.randint(0, len(preds_train_t))\n",
    "    imshow(X_train[ix])\n",
    "    plt.show()\n",
    "    imshow(np.squeeze(Y_train[ix]))\n",
    "    plt.show()\n",
    "    imshow(np.squeeze(preds_train_t[ix]))\n",
    "    plt.show()\n",
    "\n",
    "\n",
    "    # Checking the predictions on validation samples.\n",
    "    ix = random.randint(0, len(preds_val_t))\n",
    "    imshow(X_train[int(X_train.shape[0]*0.9):][ix])\n",
    "    plt.show()\n",
    "    imshow(np.squeeze(Y_train[int(Y_train.shape[0]*0.9):][ix]))\n",
    "    plt.show()\n",
    "    imshow(np.squeeze(preds_val_t[ix]))\n",
    "    plt.show()\n",
    "    \n",
    "\n",
    "def display_results(model_name) :\n",
    "    # Predicting on train, val and test using models that we built \n",
    "    best_model = load_model(model_name, custom_objects={'mean_iou': mean_iou})\n",
    "    preds_train = best_model.predict(X_train[:int(X_train.shape[0]*0.9)])\n",
    "    preds_val = best_model.predict(X_train[int(X_train.shape[0]*0.9):])\n",
    "    preds_test = best_model.predict(X_test)\n",
    "\n",
    "    preds_train_t = (preds_train > 0.5).astype(np.uint8)\n",
    "    preds_val_t = (preds_val > 0.5).astype(np.uint8)\n",
    "    preds_test_t = (preds_test > 0.5).astype(np.uint8)\n",
    "\n",
    "    # Create list of upsampled test masks\n",
    "    preds_test_upsampled = []\n",
    "    for i in range(len(preds_test)):\n",
    "        preds_test_upsampled.append(resize(np.squeeze(preds_test[i]),(256, 256), \n",
    "                                       mode='constant', preserve_range=True))\n",
    "    \n",
    "    \n",
    "    \n",
    "    print('Results for'+model_name+'  \\n\\n')\n",
    "    iou = []\n",
    "    for i in range(0,603):\n",
    "        iou.append(iou_metric(np.squeeze(Y_train[i]), np.squeeze(preds_train_t[i])))\n",
    "    iou = np.asarray(iou)\n",
    "    print('Train Mean Precision Score')\n",
    "    print(iou.mean(),\"\\n\")\n",
    "    \n",
    "    \n",
    "    \n",
    "    iou_val = []\n",
    "    for i in range(0,67):\n",
    "        iou_val.append(iou_metric(np.squeeze(Y_train[i+603]), np.squeeze(preds_val_t[i])))\n",
    "    iou_val = np.asarray(iou_val)\n",
    "    print('Validation Mean Precision Score')\n",
    "    print(iou_val.mean(), \"\\n\")\n",
    "    \n",
    "    \n",
    "    \n",
    "    iou_t = []\n",
    "    for i in range(0,65):\n",
    "        iou_t.append(iou_metric(np.squeeze(Y_test[i]), np.squeeze(preds_test_t[i])))\n",
    "    iou_t = np.asarray(iou_t)\n",
    "    print('Test Mean Precision Score')\n",
    "    print(iou_t.mean(), \"\\n\")\n",
    "    "
   ]
  },
  {
   "cell_type": "code",
   "execution_count": 72,
   "metadata": {
    "scrolled": false
   },
   "outputs": [
    {
     "name": "stdout",
     "output_type": "stream",
     "text": [
      "603/603 [==============================] - 2s 4ms/step\n",
      "67/67 [==============================] - 0s 489us/step\n",
      "65/65 [==============================] - 0s 509us/step\n"
     ]
    },
    {
     "name": "stderr",
     "output_type": "stream",
     "text": [
      "/N/u/gautham4/.local/lib/python3.6/site-packages/skimage/io/_plugins/matplotlib_plugin.py:51: FutureWarning: Conversion of the second argument of issubdtype from `float` to `np.floating` is deprecated. In future, it will be treated as `np.float64 == np.dtype(float).type`.\n",
      "  out_of_range_float = (np.issubdtype(image.dtype, np.float) and\n"
     ]
    },
    {
     "data": {
      "image/png": "[encoded data removed]",
      "text/plain": [
       "<matplotlib.figure.Figure at 0x7fe326ca2320>"
      ]
     },
     "metadata": {},
     "output_type": "display_data"
    },
    {
     "data": {
      "image/png": "[encoded data removed]",
      "text/plain": [
       "<matplotlib.figure.Figure at 0x7fe326c686a0>"
      ]
     },
     "metadata": {},
     "output_type": "display_data"
    },
    {
     "data": {
      "image/png": "[encoded data removed]",
      "text/plain": [
       "<matplotlib.figure.Figure at 0x7fe323d71320>"
      ]
     },
     "metadata": {},
     "output_type": "display_data"
    },
    {
     "data": {
      "image/png": "[encoded data removed]",
      "text/plain": [
       "<matplotlib.figure.Figure at 0x7fe323cd9c50>"
      ]
     },
     "metadata": {},
     "output_type": "display_data"
    },
    {
     "data": {
      "image/png": "[encoded data removed]",
      "text/plain": [
       "<matplotlib.figure.Figure at 0x7fe323c8a6d8>"
      ]
     },
     "metadata": {},
     "output_type": "display_data"
    },
    {
     "data": {
      "image/png": "[encoded data removed]",
      "text/plain": [
       "<matplotlib.figure.Figure at 0x7fe323c2c0f0>"
      ]
     },
     "metadata": {},
     "output_type": "display_data"
    }
   ],
   "source": [
    "display_predicted_images(aug_model)"
   ]
  },
  {
   "cell_type": "code",
   "execution_count": 59,
   "metadata": {
    "scrolled": true
   },
   "outputs": [
    {
     "name": "stdout",
     "output_type": "stream",
     "text": [
      "Results forU-Net-model-dsbowl2018-1.h5  \n",
      "\n",
      "\n",
      "Train Mean Precision Score\n",
      "0.5383184071674095 \n",
      "\n",
      "Validation Mean Precision Score\n",
      "0.5421037542300804 \n",
      "\n",
      "Test Mean Precision Score\n",
      "0.2447497733896516 \n",
      "\n"
     ]
    }
   ],
   "source": [
    "display_results(no_aug_model)"
   ]
  },
  {
   "cell_type": "code",
   "execution_count": 56,
   "metadata": {
    "scrolled": false
   },
   "outputs": [
    {
     "name": "stdout",
     "output_type": "stream",
     "text": [
      "Results forU-Net-with-data-augmentation-model-dsbowl2018-1.h5\n",
      "\n",
      "\n",
      "Train Mean Precision Score\n",
      "0.5678519060267371 \n",
      "\n",
      "Validation Mean Precision Score\n",
      "0.564938623902988 \n",
      "\n",
      "Test Mean Precision Score\n",
      "0.20176315414056833 \n",
      "\n"
     ]
    }
   ],
   "source": [
    "display_results(aug_model)"
   ]
  },
  {
   "cell_type": "code",
   "execution_count": null,
   "metadata": {},
   "outputs": [],
   "source": []
  }
 ],
 "metadata": {
  "kernelspec": {
   "display_name": "Python 3",
   "language": "python",
   "name": "python3"
  },
  "language_info": {
   "codemirror_mode": {
    "name": "ipython",
    "version": 3
   },
   "file_extension": ".py",
   "mimetype": "text/x-python",
   "name": "python",
   "nbconvert_exporter": "python",
   "pygments_lexer": "ipython3",
   "version": "3.6.4"
  }
 },
 "nbformat": 4,
 "nbformat_minor": 1
}
